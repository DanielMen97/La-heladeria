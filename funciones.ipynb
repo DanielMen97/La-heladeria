{
 "cells": [
  {
   "cell_type": "code",
   "execution_count": 13,
   "metadata": {},
   "outputs": [
    {
     "data": {
      "text/plain": [
       "True"
      ]
     },
     "execution_count": 13,
     "metadata": {},
     "output_type": "execute_result"
    }
   ],
   "source": [
    "#Funcion que determina si ingrediente es Sano\n",
    "\n",
    "def esSano(calorias: int, vegetariano: bool):\n",
    "  if vegetariano == True or calorias < 100:\n",
    "    return True\n",
    "  else:\n",
    "    return False\n",
    "  \n",
    "esSano(190, True)"
   ]
  },
  {
   "cell_type": "code",
   "execution_count": 14,
   "metadata": {},
   "outputs": [
    {
     "data": {
      "text/plain": [
       "55.1"
      ]
     },
     "execution_count": 14,
     "metadata": {},
     "output_type": "execute_result"
    }
   ],
   "source": [
    "#Funcion que calcula las calorias de un producto\n",
    "\n",
    "def calcularCalorias(listaDeCalorias: list):\n",
    "  sumaCalorias = 0\n",
    "  for index in range(len(listaDeCalorias)):\n",
    "    sumaCalorias = sumaCalorias + listaDeCalorias[index]\n",
    "  totalCalorias = sumaCalorias * 0.95\n",
    "  return round(totalCalorias, 2)\n",
    "  \n",
    "caloriasPorProducto = [3, 22, 33]\n",
    "\n",
    "calcularCalorias(caloriasPorProducto)"
   ]
  },
  {
   "cell_type": "code",
   "execution_count": 15,
   "metadata": {},
   "outputs": [],
   "source": [
    "ingredientes = [\n",
    "{\n",
    "  \"nombre\": \"Helado de Fresa\",\n",
    "  \"precio\": 1200\n",
    "},\n",
    "{\n",
    "  \"nombre\": \"Chispas de chocolate\",\n",
    "  \"precio\": 500\n",
    "},\n",
    "{\n",
    "  \"nombre\": \"Mani Japones\",\n",
    "  \"precio\": 900\n",
    "}\n",
    "]"
   ]
  },
  {
   "cell_type": "code",
   "execution_count": 16,
   "metadata": {},
   "outputs": [
    {
     "data": {
      "text/plain": [
       "2600"
      ]
     },
     "execution_count": 16,
     "metadata": {},
     "output_type": "execute_result"
    }
   ],
   "source": [
    "#Funcion que calcula el costo de un producto \n",
    "\n",
    "def calcularCostoProducto(ingredientes: tuple):\n",
    "  totalCostoProducto = 0\n",
    "  for index in range(len(ingredientes)):\n",
    "    totalCostoProducto = totalCostoProducto + ingredientes[index][\"precio\"]\n",
    "  return totalCostoProducto\n",
    "\n",
    "calcularCostoProducto(ingredientes)"
   ]
  },
  {
   "cell_type": "code",
   "execution_count": 17,
   "metadata": {},
   "outputs": [
    {
     "data": {
      "text/plain": [
       "4900"
      ]
     },
     "execution_count": 17,
     "metadata": {},
     "output_type": "execute_result"
    }
   ],
   "source": [
    "#Funcion que calcula la rentabilidad de un producto \n",
    "\n",
    "def calcularRentabilidadProducto(ingredientes: tuple, precio: int):\n",
    "  totalCostoProducto = 0\n",
    "  for index in range(len(ingredientes)):\n",
    "    totalCostoProducto = totalCostoProducto + ingredientes[index][\"precio\"]\n",
    "  rentabilidadProducto = precio - totalCostoProducto\n",
    "  return rentabilidadProducto\n",
    "\n",
    "calcularRentabilidadProducto(ingredientes, 7500)  "
   ]
  },
  {
   "cell_type": "code",
   "execution_count": 18,
   "metadata": {},
   "outputs": [],
   "source": [
    "productos = [\n",
    "{\"nombre\": \"Samurai de fresas\", \"rentabilidad\": 4900},\n",
    "{\"nombre\": \"Samurai de mandarinas\", \"rentabilidad\": 2500},\n",
    "{\"nombre\": \"Malteda chocoespacial\", \"rentabilidad\": 11000},\n",
    "{\"nombre\": \"Cupihelado\", \"rentabilidad\": 3200},\n",
    "]"
   ]
  },
  {
   "cell_type": "code",
   "execution_count": 19,
   "metadata": {},
   "outputs": [
    {
     "data": {
      "text/plain": [
       "'Malteda chocoespacial'"
      ]
     },
     "execution_count": 19,
     "metadata": {},
     "output_type": "execute_result"
    }
   ],
   "source": [
    "#Funcion que determina cual producto tiene mejor rentabilidad\n",
    "\n",
    "def mejorMasRentable(productos: tuple):\n",
    "  mejorProducto = \"\"\n",
    "  rentabilidad = 0\n",
    "  for index in range(len(productos)):\n",
    "   if rentabilidad < productos[index][\"rentabilidad\"]:\n",
    "     rentabilidad = productos[index][\"rentabilidad\"]\n",
    "     mejorProducto = productos[index][\"nombre\"]\n",
    "  return mejorProducto\n",
    "\n",
    "mejorMasRentable(productos)"
   ]
  },
  {
   "cell_type": "code",
   "execution_count": 51,
   "metadata": {},
   "outputs": [],
   "source": [
    "#Clase Ingrediente\n",
    "\n",
    "class Ingrediente:\n",
    "  def __init__(self, precio: int, calorias: list, nombre: str, inventario: int, es_vegetariano: bool):\n",
    "    self.precio = precio\n",
    "    self.calorias = calorias\n",
    "    self.nombre = nombre\n",
    "    self.inventario = inventario\n",
    "    self.es_vegetariano = es_vegetariano"
   ]
  },
  {
   "cell_type": "code",
   "execution_count": 54,
   "metadata": {},
   "outputs": [
    {
     "data": {
      "text/plain": [
       "1000"
      ]
     },
     "execution_count": 54,
     "metadata": {},
     "output_type": "execute_result"
    }
   ],
   "source": [
    "#Clase Hija de Ingrediente\n",
    "\n",
    "class Base(Ingrediente):\n",
    "  def __init__(self, sabor: str, precio: int, calorias: list, nombre: str, inventario: int, es_vegetariano: bool):\n",
    "    super().__init__(precio, calorias, nombre, inventario, es_vegetariano)\n",
    "    self.sabor = sabor\n",
    "\n",
    "prueba = Base(\"Acido\", 1000, [10, 40], \"prueba\", 0, False)\n",
    "\n",
    "prueba.precio\n"
   ]
  }
 ],
 "metadata": {
  "kernelspec": {
   "display_name": "Python 3",
   "language": "python",
   "name": "python3"
  },
  "language_info": {
   "codemirror_mode": {
    "name": "ipython",
    "version": 3
   },
   "file_extension": ".py",
   "mimetype": "text/x-python",
   "name": "python",
   "nbconvert_exporter": "python",
   "pygments_lexer": "ipython3",
   "version": "3.11.9"
  }
 },
 "nbformat": 4,
 "nbformat_minor": 2
}
